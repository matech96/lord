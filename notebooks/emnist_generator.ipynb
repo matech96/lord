{
 "cells": [
  {
   "cell_type": "code",
   "execution_count": 1,
   "metadata": {},
   "outputs": [],
   "source": [
    "from collections import defaultdict\n",
    "from functools import reduce\n",
    "\n",
    "import numpy as np\n",
    "import matplotlib.pyplot as plt\n",
    "import tensorflow_federated as tff\n",
    "from tqdm import tqdm"
   ]
  },
  {
   "cell_type": "code",
   "execution_count": 7,
   "metadata": {},
   "outputs": [
    {
     "name": "stderr",
     "output_type": "stream",
     "text": [
      "100%|████████████████████████████████████████████████████████████████████████████████| 700/700 [00:36<00:00, 19.25it/s]\n"
     ]
    }
   ],
   "source": [
    "emnist_train, _ = tff.simulation.datasets.emnist.load_data()\n",
    "emnist_train_all = {client_id: emnist_train.create_tf_dataset_for_client(client_id) for client_id in emnist_train.client_ids[:700]}\n",
    "unique_content_ids = list(set(emnist_train_all.keys()))\n",
    "\n",
    "xs = []\n",
    "ys = []\n",
    "contents = []\n",
    "for client_id, ds in tqdm(emnist_train_all.items()):\n",
    "    xs.append(np.stack([item['pixels'] for item in ds.as_numpy_iterator()]))\n",
    "    ys.append(np.array([item['label'] for item in ds.as_numpy_iterator()]))\n",
    "    for _ in ds.as_numpy_iterator():\n",
    "        contents.append(client_id) \n",
    "\n",
    "x = np.concatenate(xs, axis=0)\n",
    "y = np.concatenate(ys, axis=0)\n",
    "contents = np.array([unique_content_ids.index(c) for c in contents], dtype=np.uint32)\n"
   ]
  },
  {
   "cell_type": "code",
   "execution_count": 9,
   "metadata": {},
   "outputs": [],
   "source": [
    "np.savez_compressed('emnist', x=x, y=y, contents=contents)"
   ]
  }
 ],
 "metadata": {
  "kernelspec": {
   "display_name": "Python 3",
   "language": "python",
   "name": "python3"
  },
  "language_info": {
   "codemirror_mode": {
    "name": "ipython",
    "version": 3
   },
   "file_extension": ".py",
   "mimetype": "text/x-python",
   "name": "python",
   "nbconvert_exporter": "python",
   "pygments_lexer": "ipython3",
   "version": "3.7.3"
  }
 },
 "nbformat": 4,
 "nbformat_minor": 2
}
