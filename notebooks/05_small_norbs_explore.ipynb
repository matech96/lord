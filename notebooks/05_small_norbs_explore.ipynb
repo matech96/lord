{
 "cells": [
  {
   "cell_type": "code",
   "execution_count": 3,
   "metadata": {},
   "outputs": [],
   "source": [
    "import numpy as np\n",
    "import matplotlib.pyplot as plt\n",
    "\n",
    "import tensorflow.compat.v2 as tf\n",
    "# tfds works in both Eager and Graph modes\n",
    "tf.compat.v1.enable_eager_execution()\n",
    "import tensorflow_datasets as tfds\n",
    "\n",
    "from tensorflow.keras.models import Sequential\n",
    "from tensorflow.keras.layers import Dense\n",
    "from tensorflow.keras.callbacks import EarlyStopping, CSVLogger\n",
    "\n",
    "from sklearn.preprocessing import OneHotEncoder\n",
    "\n",
    "from tqdm import tqdm"
   ]
  },
  {
   "cell_type": "code",
   "execution_count": 4,
   "metadata": {},
   "outputs": [],
   "source": [
    "dataset = tfds.load(name=\"smallnorb\", split=\"train\")"
   ]
  },
  {
   "cell_type": "code",
   "execution_count": 6,
   "metadata": {
    "scrolled": false
   },
   "outputs": [
    {
     "name": "stderr",
     "output_type": "stream",
     "text": [
      "24300it [00:09, 2515.41it/s]\n"
     ]
    }
   ],
   "source": [
    "content_var = ['label_azimuth', 'label_elevation', 'label_lighting']\n",
    "\n",
    "content_str = []\n",
    "classes = []\n",
    "for example in tqdm(dataset):\n",
    "    content_str.append('_'.join([str(example[cv].numpy()) for cv in content_var]))\n",
    "    classes.append(((example[\"label_category\"] * 10) + example[\"instance\"]).numpy())"
   ]
  },
  {
   "cell_type": "code",
   "execution_count": 7,
   "metadata": {},
   "outputs": [],
   "source": [
    "unique_content_id = list(set(content_str))\n",
    "content = [unique_content_id.index(cs) for cs in content_str]\n",
    "content = np.expand_dims(content, axis=1)"
   ]
  },
  {
   "cell_type": "code",
   "execution_count": 8,
   "metadata": {},
   "outputs": [],
   "source": [
    "onehot = OneHotEncoder()\n",
    "classes_onehot = onehot.fit_transform(np.expand_dims(classes, axis=1))"
   ]
  },
  {
   "cell_type": "code",
   "execution_count": 9,
   "metadata": {},
   "outputs": [],
   "source": [
    "def get_model( input_dim):\n",
    "    model = Sequential()\n",
    "    model.add(Dense(units=256, activation='relu', input_dim=input_dim))\n",
    "    model.add(Dense(units=25, activation='softmax'))\n",
    "\n",
    "    model.compile(loss='categorical_crossentropy',\n",
    "                  optimizer='adam',\n",
    "                  metrics=['accuracy'])\n",
    "    return model"
   ]
  },
  {
   "cell_type": "code",
   "execution_count": 16,
   "metadata": {},
   "outputs": [
    {
     "name": "stdout",
     "output_type": "stream",
     "text": [
      "Train on 17010 samples, validate on 7290 samples\n",
      "Epoch 1/100\n",
      "16480/17010 [============================>.] - ETA: 0s - loss: 5.8063 - acc: 0.0385WARNING:tensorflow:Early stopping conditioned on metric `val_accuracy` which is not available. Available metrics are: loss,acc,val_loss,val_acc\n"
     ]
    },
    {
     "name": "stderr",
     "output_type": "stream",
     "text": [
      "WARNING:tensorflow:Early stopping conditioned on metric `val_accuracy` which is not available. Available metrics are: loss,acc,val_loss,val_acc\n"
     ]
    },
    {
     "name": "stdout",
     "output_type": "stream",
     "text": [
      "17010/17010 [==============================] - 1s 80us/sample - loss: 5.7608 - acc: 0.0382 - val_loss: 4.6796 - val_acc: 0.0394\n",
      "Epoch 2/100\n",
      "16736/17010 [============================>.] - ETA: 0s - loss: 4.1137 - acc: 0.0410WARNING:tensorflow:Early stopping conditioned on metric `val_accuracy` which is not available. Available metrics are: loss,acc,val_loss,val_acc\n"
     ]
    },
    {
     "name": "stderr",
     "output_type": "stream",
     "text": [
      "WARNING:tensorflow:Early stopping conditioned on metric `val_accuracy` which is not available. Available metrics are: loss,acc,val_loss,val_acc\n"
     ]
    },
    {
     "name": "stdout",
     "output_type": "stream",
     "text": [
      "17010/17010 [==============================] - 1s 53us/sample - loss: 4.1150 - acc: 0.0407 - val_loss: 4.0688 - val_acc: 0.0405\n",
      "Epoch 3/100\n",
      "16800/17010 [============================>.] - ETA: 0s - loss: 4.0706 - acc: 0.0426WARNING:tensorflow:Early stopping conditioned on metric `val_accuracy` which is not available. Available metrics are: loss,acc,val_loss,val_acc\n"
     ]
    },
    {
     "name": "stderr",
     "output_type": "stream",
     "text": [
      "WARNING:tensorflow:Early stopping conditioned on metric `val_accuracy` which is not available. Available metrics are: loss,acc,val_loss,val_acc\n"
     ]
    },
    {
     "name": "stdout",
     "output_type": "stream",
     "text": [
      "17010/17010 [==============================] - 1s 52us/sample - loss: 4.0709 - acc: 0.0429 - val_loss: 4.0191 - val_acc: 0.0402\n",
      "Epoch 4/100\n",
      "16576/17010 [============================>.] - ETA: 0s - loss: 4.0627 - acc: 0.0399WARNING:tensorflow:Early stopping conditioned on metric `val_accuracy` which is not available. Available metrics are: loss,acc,val_loss,val_acc\n"
     ]
    },
    {
     "name": "stderr",
     "output_type": "stream",
     "text": [
      "WARNING:tensorflow:Early stopping conditioned on metric `val_accuracy` which is not available. Available metrics are: loss,acc,val_loss,val_acc\n"
     ]
    },
    {
     "name": "stdout",
     "output_type": "stream",
     "text": [
      "17010/17010 [==============================] - 1s 52us/sample - loss: 4.0537 - acc: 0.0401 - val_loss: 3.7801 - val_acc: 0.0391\n",
      "Epoch 5/100\n",
      "16416/17010 [===========================>..] - ETA: 0s - loss: 3.9259 - acc: 0.0420WARNING:tensorflow:Early stopping conditioned on metric `val_accuracy` which is not available. Available metrics are: loss,acc,val_loss,val_acc\n"
     ]
    },
    {
     "name": "stderr",
     "output_type": "stream",
     "text": [
      "WARNING:tensorflow:Early stopping conditioned on metric `val_accuracy` which is not available. Available metrics are: loss,acc,val_loss,val_acc\n"
     ]
    },
    {
     "name": "stdout",
     "output_type": "stream",
     "text": [
      "17010/17010 [==============================] - 1s 53us/sample - loss: 3.9180 - acc: 0.0422 - val_loss: 3.6354 - val_acc: 0.0412\n",
      "Epoch 6/100\n",
      "16896/17010 [============================>.] - ETA: 0s - loss: 3.8500 - acc: 0.0415WARNING:tensorflow:Early stopping conditioned on metric `val_accuracy` which is not available. Available metrics are: loss,acc,val_loss,val_acc\n"
     ]
    },
    {
     "name": "stderr",
     "output_type": "stream",
     "text": [
      "WARNING:tensorflow:Early stopping conditioned on metric `val_accuracy` which is not available. Available metrics are: loss,acc,val_loss,val_acc\n"
     ]
    },
    {
     "name": "stdout",
     "output_type": "stream",
     "text": [
      "17010/17010 [==============================] - 1s 56us/sample - loss: 3.8499 - acc: 0.0415 - val_loss: 3.7216 - val_acc: 0.0399\n",
      "Epoch 7/100\n",
      "16768/17010 [============================>.] - ETA: 0s - loss: 3.8556 - acc: 0.0405WARNING:tensorflow:Early stopping conditioned on metric `val_accuracy` which is not available. Available metrics are: loss,acc,val_loss,val_acc\n"
     ]
    },
    {
     "name": "stderr",
     "output_type": "stream",
     "text": [
      "WARNING:tensorflow:Early stopping conditioned on metric `val_accuracy` which is not available. Available metrics are: loss,acc,val_loss,val_acc\n"
     ]
    },
    {
     "name": "stdout",
     "output_type": "stream",
     "text": [
      "17010/17010 [==============================] - 1s 55us/sample - loss: 3.8589 - acc: 0.0404 - val_loss: 3.9580 - val_acc: 0.0376\n",
      "Epoch 8/100\n",
      "16768/17010 [============================>.] - ETA: 0s - loss: 3.8178 - acc: 0.0405WARNING:tensorflow:Early stopping conditioned on metric `val_accuracy` which is not available. Available metrics are: loss,acc,val_loss,val_acc\n"
     ]
    },
    {
     "name": "stderr",
     "output_type": "stream",
     "text": [
      "WARNING:tensorflow:Early stopping conditioned on metric `val_accuracy` which is not available. Available metrics are: loss,acc,val_loss,val_acc\n"
     ]
    },
    {
     "name": "stdout",
     "output_type": "stream",
     "text": [
      "17010/17010 [==============================] - 1s 51us/sample - loss: 3.8143 - acc: 0.0403 - val_loss: 3.7673 - val_acc: 0.0438\n",
      "Epoch 9/100\n",
      "16288/17010 [===========================>..] - ETA: 0s - loss: 3.7414 - acc: 0.0395- ETA: 0s - loss: 3.7615 - acc: 0.04WARNING:tensorflow:Early stopping conditioned on metric `val_accuracy` which is not available. Available metrics are: loss,acc,val_loss,val_acc\n"
     ]
    },
    {
     "name": "stderr",
     "output_type": "stream",
     "text": [
      "WARNING:tensorflow:Early stopping conditioned on metric `val_accuracy` which is not available. Available metrics are: loss,acc,val_loss,val_acc\n"
     ]
    },
    {
     "name": "stdout",
     "output_type": "stream",
     "text": [
      "17010/17010 [==============================] - 1s 54us/sample - loss: 3.7383 - acc: 0.0397 - val_loss: 3.5533 - val_acc: 0.0401\n",
      "Epoch 10/100\n",
      "16768/17010 [============================>.] - ETA: 0s - loss: 3.6832 - acc: 0.0404WARNING:tensorflow:Early stopping conditioned on metric `val_accuracy` which is not available. Available metrics are: loss,acc,val_loss,val_acc\n"
     ]
    },
    {
     "name": "stderr",
     "output_type": "stream",
     "text": [
      "WARNING:tensorflow:Early stopping conditioned on metric `val_accuracy` which is not available. Available metrics are: loss,acc,val_loss,val_acc\n"
     ]
    },
    {
     "name": "stdout",
     "output_type": "stream",
     "text": [
      "17010/17010 [==============================] - 1s 54us/sample - loss: 3.6832 - acc: 0.0403 - val_loss: 3.6024 - val_acc: 0.0368\n",
      "Epoch 11/100\n",
      "16160/17010 [===========================>..] - ETA: 0s - loss: 3.6357 - acc: 0.0423WARNING:tensorflow:Early stopping conditioned on metric `val_accuracy` which is not available. Available metrics are: loss,acc,val_loss,val_acc\n"
     ]
    },
    {
     "name": "stderr",
     "output_type": "stream",
     "text": [
      "WARNING:tensorflow:Early stopping conditioned on metric `val_accuracy` which is not available. Available metrics are: loss,acc,val_loss,val_acc\n"
     ]
    },
    {
     "name": "stdout",
     "output_type": "stream",
     "text": [
      "17010/17010 [==============================] - 1s 55us/sample - loss: 3.6334 - acc: 0.0422 - val_loss: 3.7031 - val_acc: 0.0369\n",
      "Epoch 12/100\n",
      "16544/17010 [============================>.] - ETA: 0s - loss: 3.5503 - acc: 0.0409WARNING:tensorflow:Early stopping conditioned on metric `val_accuracy` which is not available. Available metrics are: loss,acc,val_loss,val_acc\n"
     ]
    },
    {
     "name": "stderr",
     "output_type": "stream",
     "text": [
      "WARNING:tensorflow:Early stopping conditioned on metric `val_accuracy` which is not available. Available metrics are: loss,acc,val_loss,val_acc\n"
     ]
    },
    {
     "name": "stdout",
     "output_type": "stream",
     "text": [
      "17010/17010 [==============================] - 1s 57us/sample - loss: 3.5486 - acc: 0.0409 - val_loss: 3.5078 - val_acc: 0.0394\n",
      "Epoch 13/100\n",
      "16640/17010 [============================>.] - ETA: 0s - loss: 3.5145 - acc: 0.039 - ETA: 0s - loss: 3.5139 - acc: 0.0389WARNING:tensorflow:Early stopping conditioned on metric `val_accuracy` which is not available. Available metrics are: loss,acc,val_loss,val_acc\n"
     ]
    },
    {
     "name": "stderr",
     "output_type": "stream",
     "text": [
      "WARNING:tensorflow:Early stopping conditioned on metric `val_accuracy` which is not available. Available metrics are: loss,acc,val_loss,val_acc\n"
     ]
    },
    {
     "name": "stdout",
     "output_type": "stream",
     "text": [
      "17010/17010 [==============================] - 1s 55us/sample - loss: 3.5112 - acc: 0.0393 - val_loss: 3.5045 - val_acc: 0.0418\n",
      "Epoch 14/100\n",
      "16736/17010 [============================>.] - ETA: 0s - loss: 3.4739 - acc: 0.0386WARNING:tensorflow:Early stopping conditioned on metric `val_accuracy` which is not available. Available metrics are: loss,acc,val_loss,val_acc\n"
     ]
    },
    {
     "name": "stderr",
     "output_type": "stream",
     "text": [
      "WARNING:tensorflow:Early stopping conditioned on metric `val_accuracy` which is not available. Available metrics are: loss,acc,val_loss,val_acc\n"
     ]
    },
    {
     "name": "stdout",
     "output_type": "stream",
     "text": [
      "17010/17010 [==============================] - 1s 52us/sample - loss: 3.4726 - acc: 0.0387 - val_loss: 3.3989 - val_acc: 0.0398\n",
      "Epoch 15/100\n",
      "16448/17010 [============================>.] - ETA: 0s - loss: 3.4443 - acc: 0.0418WARNING:tensorflow:Early stopping conditioned on metric `val_accuracy` which is not available. Available metrics are: loss,acc,val_loss,val_acc\n"
     ]
    },
    {
     "name": "stderr",
     "output_type": "stream",
     "text": [
      "WARNING:tensorflow:Early stopping conditioned on metric `val_accuracy` which is not available. Available metrics are: loss,acc,val_loss,val_acc\n"
     ]
    },
    {
     "name": "stdout",
     "output_type": "stream",
     "text": [
      "17010/17010 [==============================] - 1s 52us/sample - loss: 3.4421 - acc: 0.0419 - val_loss: 3.3810 - val_acc: 0.0398\n",
      "Epoch 16/100\n",
      "16576/17010 [============================>.] - ETA: 0s - loss: 3.3945 - acc: 0.0387WARNING:tensorflow:Early stopping conditioned on metric `val_accuracy` which is not available. Available metrics are: loss,acc,val_loss,val_acc\n"
     ]
    },
    {
     "name": "stderr",
     "output_type": "stream",
     "text": [
      "WARNING:tensorflow:Early stopping conditioned on metric `val_accuracy` which is not available. Available metrics are: loss,acc,val_loss,val_acc\n"
     ]
    },
    {
     "name": "stdout",
     "output_type": "stream",
     "text": [
      "17010/17010 [==============================] - 1s 52us/sample - loss: 3.3941 - acc: 0.0382 - val_loss: 3.3341 - val_acc: 0.0394\n",
      "Epoch 17/100\n",
      "16768/17010 [============================>.] - ETA: 0s - loss: 3.3657 - acc: 0.0419- ETA: 0s - loss: 3.3705 - acc: 0.WARNING:tensorflow:Early stopping conditioned on metric `val_accuracy` which is not available. Available metrics are: loss,acc,val_loss,val_acc\n"
     ]
    },
    {
     "name": "stderr",
     "output_type": "stream",
     "text": [
      "WARNING:tensorflow:Early stopping conditioned on metric `val_accuracy` which is not available. Available metrics are: loss,acc,val_loss,val_acc\n"
     ]
    },
    {
     "name": "stdout",
     "output_type": "stream",
     "text": [
      "17010/17010 [==============================] - 1s 52us/sample - loss: 3.3663 - acc: 0.0419 - val_loss: 3.3120 - val_acc: 0.0384\n",
      "Epoch 18/100\n",
      "16896/17010 [============================>.] - ETA: 0s - loss: 3.3368 - acc: 0.0414WARNING:tensorflow:Early stopping conditioned on metric `val_accuracy` which is not available. Available metrics are: loss,acc,val_loss,val_acc\n"
     ]
    },
    {
     "name": "stderr",
     "output_type": "stream",
     "text": [
      "WARNING:tensorflow:Early stopping conditioned on metric `val_accuracy` which is not available. Available metrics are: loss,acc,val_loss,val_acc\n"
     ]
    },
    {
     "name": "stdout",
     "output_type": "stream",
     "text": [
      "17010/17010 [==============================] - 1s 51us/sample - loss: 3.3367 - acc: 0.0414 - val_loss: 3.2909 - val_acc: 0.0392\n",
      "Epoch 19/100\n",
      "16960/17010 [============================>.] - ETA: 0s - loss: 3.3096 - acc: 0.0396WARNING:tensorflow:Early stopping conditioned on metric `val_accuracy` which is not available. Available metrics are: loss,acc,val_loss,val_acc\n"
     ]
    },
    {
     "name": "stderr",
     "output_type": "stream",
     "text": [
      "WARNING:tensorflow:Early stopping conditioned on metric `val_accuracy` which is not available. Available metrics are: loss,acc,val_loss,val_acc\n"
     ]
    },
    {
     "name": "stdout",
     "output_type": "stream",
     "text": [
      "17010/17010 [==============================] - 1s 51us/sample - loss: 3.3095 - acc: 0.0396 - val_loss: 3.2862 - val_acc: 0.0385\n",
      "Epoch 20/100\n",
      "16064/17010 [===========================>..] - ETA: 0s - loss: 3.2861 - acc: 0.0413WARNING:tensorflow:Early stopping conditioned on metric `val_accuracy` which is not available. Available metrics are: loss,acc,val_loss,val_acc\n"
     ]
    },
    {
     "name": "stderr",
     "output_type": "stream",
     "text": [
      "WARNING:tensorflow:Early stopping conditioned on metric `val_accuracy` which is not available. Available metrics are: loss,acc,val_loss,val_acc\n"
     ]
    },
    {
     "name": "stdout",
     "output_type": "stream",
     "text": [
      "17010/17010 [==============================] - 1s 53us/sample - loss: 3.2851 - acc: 0.0413 - val_loss: 3.2918 - val_acc: 0.0364\n",
      "Epoch 21/100\n",
      "16160/17010 [===========================>..] - ETA: 0s - loss: 3.2657 - acc: 0.0398WARNING:tensorflow:Early stopping conditioned on metric `val_accuracy` which is not available. Available metrics are: loss,acc,val_loss,val_acc\n"
     ]
    },
    {
     "name": "stderr",
     "output_type": "stream",
     "text": [
      "WARNING:tensorflow:Early stopping conditioned on metric `val_accuracy` which is not available. Available metrics are: loss,acc,val_loss,val_acc\n"
     ]
    },
    {
     "name": "stdout",
     "output_type": "stream",
     "text": [
      "17010/17010 [==============================] - 1s 53us/sample - loss: 3.2655 - acc: 0.0393 - val_loss: 3.2449 - val_acc: 0.0373\n",
      "Epoch 22/100\n",
      "16544/17010 [============================>.] - ETA: 0s - loss: 3.2494 - acc: 0.0399WARNING:tensorflow:Early stopping conditioned on metric `val_accuracy` which is not available. Available metrics are: loss,acc,val_loss,val_acc\n"
     ]
    },
    {
     "name": "stderr",
     "output_type": "stream",
     "text": [
      "WARNING:tensorflow:Early stopping conditioned on metric `val_accuracy` which is not available. Available metrics are: loss,acc,val_loss,val_acc\n"
     ]
    },
    {
     "name": "stdout",
     "output_type": "stream",
     "text": [
      "17010/17010 [==============================] - 1s 53us/sample - loss: 3.2495 - acc: 0.0394 - val_loss: 3.2285 - val_acc: 0.0374\n",
      "Epoch 23/100\n",
      "16128/17010 [===========================>..] - ETA: 0s - loss: 3.2208 - acc: 0.0395WARNING:tensorflow:Early stopping conditioned on metric `val_accuracy` which is not available. Available metrics are: loss,acc,val_loss,val_acc\n"
     ]
    },
    {
     "name": "stderr",
     "output_type": "stream",
     "text": [
      "WARNING:tensorflow:Early stopping conditioned on metric `val_accuracy` which is not available. Available metrics are: loss,acc,val_loss,val_acc\n"
     ]
    },
    {
     "name": "stdout",
     "output_type": "stream",
     "text": [
      "17010/17010 [==============================] - 1s 56us/sample - loss: 3.2207 - acc: 0.0396 - val_loss: 3.2198 - val_acc: 0.0369\n",
      "Epoch 24/100\n",
      "16832/17010 [============================>.] - ETA: 0s - loss: 3.2192 - acc: 0.0384WARNING:tensorflow:Early stopping conditioned on metric `val_accuracy` which is not available. Available metrics are: loss,acc,val_loss,val_acc\n"
     ]
    },
    {
     "name": "stderr",
     "output_type": "stream",
     "text": [
      "WARNING:tensorflow:Early stopping conditioned on metric `val_accuracy` which is not available. Available metrics are: loss,acc,val_loss,val_acc\n"
     ]
    },
    {
     "name": "stdout",
     "output_type": "stream",
     "text": [
      "17010/17010 [==============================] - 1s 51us/sample - loss: 3.2192 - acc: 0.0384 - val_loss: 3.2197 - val_acc: 0.0369\n",
      "Epoch 25/100\n",
      "16896/17010 [============================>.] - ETA: 0s - loss: 3.2191 - acc: 0.0395WARNING:tensorflow:Early stopping conditioned on metric `val_accuracy` which is not available. Available metrics are: loss,acc,val_loss,val_acc\n"
     ]
    },
    {
     "name": "stderr",
     "output_type": "stream",
     "text": [
      "WARNING:tensorflow:Early stopping conditioned on metric `val_accuracy` which is not available. Available metrics are: loss,acc,val_loss,val_acc\n"
     ]
    },
    {
     "name": "stdout",
     "output_type": "stream",
     "text": [
      "17010/17010 [==============================] - 1s 51us/sample - loss: 3.2191 - acc: 0.0395 - val_loss: 3.2198 - val_acc: 0.0369\n",
      "Epoch 26/100\n",
      "16992/17010 [============================>.] - ETA: 0s - loss: 3.2191 - acc: 0.0384WARNING:tensorflow:Early stopping conditioned on metric `val_accuracy` which is not available. Available metrics are: loss,acc,val_loss,val_acc\n"
     ]
    },
    {
     "name": "stderr",
     "output_type": "stream",
     "text": [
      "WARNING:tensorflow:Early stopping conditioned on metric `val_accuracy` which is not available. Available metrics are: loss,acc,val_loss,val_acc\n"
     ]
    },
    {
     "name": "stdout",
     "output_type": "stream",
     "text": [
      "17010/17010 [==============================] - 1s 51us/sample - loss: 3.2191 - acc: 0.0384 - val_loss: 3.2198 - val_acc: 0.0369\n",
      "Epoch 27/100\n",
      "15840/17010 [==========================>...] - ETA: 0s - loss: 3.2191 - acc: 0.0396WARNING:tensorflow:Early stopping conditioned on metric `val_accuracy` which is not available. Available metrics are: loss,acc,val_loss,val_acc\n"
     ]
    },
    {
     "name": "stderr",
     "output_type": "stream",
     "text": [
      "WARNING:tensorflow:Early stopping conditioned on metric `val_accuracy` which is not available. Available metrics are: loss,acc,val_loss,val_acc\n"
     ]
    },
    {
     "name": "stdout",
     "output_type": "stream",
     "text": [
      "17010/17010 [==============================] - 1s 51us/sample - loss: 3.2191 - acc: 0.0397 - val_loss: 3.2197 - val_acc: 0.0369\n",
      "Epoch 28/100\n",
      "16928/17010 [============================>.] - ETA: 0s - loss: 3.2191 - acc: 0.0413WARNING:tensorflow:Early stopping conditioned on metric `val_accuracy` which is not available. Available metrics are: loss,acc,val_loss,val_acc\n"
     ]
    },
    {
     "name": "stderr",
     "output_type": "stream",
     "text": [
      "WARNING:tensorflow:Early stopping conditioned on metric `val_accuracy` which is not available. Available metrics are: loss,acc,val_loss,val_acc\n"
     ]
    },
    {
     "name": "stdout",
     "output_type": "stream",
     "text": [
      "17010/17010 [==============================] - 1s 51us/sample - loss: 3.2191 - acc: 0.0413 - val_loss: 3.2197 - val_acc: 0.0369\n",
      "Epoch 29/100\n",
      "16224/17010 [===========================>..] - ETA: 0s - loss: 3.2191 - acc: 0.039 - ETA: 0s - loss: 3.2191 - acc: 0.0398WARNING:tensorflow:Early stopping conditioned on metric `val_accuracy` which is not available. Available metrics are: loss,acc,val_loss,val_acc\n"
     ]
    },
    {
     "name": "stderr",
     "output_type": "stream",
     "text": [
      "WARNING:tensorflow:Early stopping conditioned on metric `val_accuracy` which is not available. Available metrics are: loss,acc,val_loss,val_acc\n"
     ]
    },
    {
     "name": "stdout",
     "output_type": "stream",
     "text": [
      "17010/17010 [==============================] - 1s 49us/sample - loss: 3.2191 - acc: 0.0393 - val_loss: 3.2198 - val_acc: 0.0369\n",
      "Epoch 30/100\n",
      "15712/17010 [==========================>...] - ETA: 0s - loss: 3.2191 - acc: 0.0411WARNING:tensorflow:Early stopping conditioned on metric `val_accuracy` which is not available. Available metrics are: loss,acc,val_loss,val_acc\n"
     ]
    },
    {
     "name": "stderr",
     "output_type": "stream",
     "text": [
      "WARNING:tensorflow:Early stopping conditioned on metric `val_accuracy` which is not available. Available metrics are: loss,acc,val_loss,val_acc\n"
     ]
    },
    {
     "name": "stdout",
     "output_type": "stream",
     "text": [
      "17010/17010 [==============================] - 1s 52us/sample - loss: 3.2191 - acc: 0.0408 - val_loss: 3.2198 - val_acc: 0.0369\n",
      "Epoch 31/100\n",
      "15840/17010 [==========================>...] - ETA: 0s - loss: 3.2191 - acc: 0.0412WARNING:tensorflow:Early stopping conditioned on metric `val_accuracy` which is not available. Available metrics are: loss,acc,val_loss,val_acc\n"
     ]
    },
    {
     "name": "stderr",
     "output_type": "stream",
     "text": [
      "WARNING:tensorflow:Early stopping conditioned on metric `val_accuracy` which is not available. Available metrics are: loss,acc,val_loss,val_acc\n"
     ]
    },
    {
     "name": "stdout",
     "output_type": "stream",
     "text": [
      "17010/17010 [==============================] - 1s 54us/sample - loss: 3.2191 - acc: 0.0405 - val_loss: 3.2198 - val_acc: 0.0369\n",
      "Epoch 32/100\n",
      "15968/17010 [===========================>..] - ETA: 0s - loss: 3.2191 - acc: 0.0398WARNING:tensorflow:Early stopping conditioned on metric `val_accuracy` which is not available. Available metrics are: loss,acc,val_loss,val_acc\n"
     ]
    },
    {
     "name": "stderr",
     "output_type": "stream",
     "text": [
      "WARNING:tensorflow:Early stopping conditioned on metric `val_accuracy` which is not available. Available metrics are: loss,acc,val_loss,val_acc\n"
     ]
    },
    {
     "name": "stdout",
     "output_type": "stream",
     "text": [
      "17010/17010 [==============================] - 1s 53us/sample - loss: 3.2191 - acc: 0.0397 - val_loss: 3.2198 - val_acc: 0.0369\n",
      "Epoch 33/100\n",
      "16192/17010 [===========================>..] - ETA: 0s - loss: 3.2192 - acc: 0.0407WARNING:tensorflow:Early stopping conditioned on metric `val_accuracy` which is not available. Available metrics are: loss,acc,val_loss,val_acc\n"
     ]
    },
    {
     "name": "stderr",
     "output_type": "stream",
     "text": [
      "WARNING:tensorflow:Early stopping conditioned on metric `val_accuracy` which is not available. Available metrics are: loss,acc,val_loss,val_acc\n"
     ]
    },
    {
     "name": "stdout",
     "output_type": "stream",
     "text": [
      "17010/17010 [==============================] - 1s 53us/sample - loss: 3.2191 - acc: 0.0407 - val_loss: 3.2197 - val_acc: 0.0369\n",
      "Epoch 34/100\n",
      "16384/17010 [===========================>..] - ETA: 0s - loss: 3.2192 - acc: 0.0401- ETA: 0s - loss: 3.2191 - acc:WARNING:tensorflow:Early stopping conditioned on metric `val_accuracy` which is not available. Available metrics are: loss,acc,val_loss,val_acc\n"
     ]
    },
    {
     "name": "stderr",
     "output_type": "stream",
     "text": [
      "WARNING:tensorflow:Early stopping conditioned on metric `val_accuracy` which is not available. Available metrics are: loss,acc,val_loss,val_acc\n"
     ]
    },
    {
     "name": "stdout",
     "output_type": "stream",
     "text": [
      "17010/17010 [==============================] - 1s 52us/sample - loss: 3.2191 - acc: 0.0398 - val_loss: 3.2197 - val_acc: 0.0374\n",
      "Epoch 35/100\n",
      "16512/17010 [============================>.] - ETA: 0s - loss: 3.2191 - acc: 0.0411WARNING:tensorflow:Early stopping conditioned on metric `val_accuracy` which is not available. Available metrics are: loss,acc,val_loss,val_acc\n"
     ]
    },
    {
     "name": "stderr",
     "output_type": "stream",
     "text": [
      "WARNING:tensorflow:Early stopping conditioned on metric `val_accuracy` which is not available. Available metrics are: loss,acc,val_loss,val_acc\n"
     ]
    },
    {
     "name": "stdout",
     "output_type": "stream",
     "text": [
      "17010/17010 [==============================] - 1s 55us/sample - loss: 3.2191 - acc: 0.0409 - val_loss: 3.2198 - val_acc: 0.0369\n",
      "Epoch 36/100\n",
      "15936/17010 [===========================>..] - ETA: 0s - loss: 3.2192 - acc: 0.0405WARNING:tensorflow:Early stopping conditioned on metric `val_accuracy` which is not available. Available metrics are: loss,acc,val_loss,val_acc\n"
     ]
    },
    {
     "name": "stderr",
     "output_type": "stream",
     "text": [
      "WARNING:tensorflow:Early stopping conditioned on metric `val_accuracy` which is not available. Available metrics are: loss,acc,val_loss,val_acc\n"
     ]
    },
    {
     "name": "stdout",
     "output_type": "stream",
     "text": [
      "17010/17010 [==============================] - 1s 53us/sample - loss: 3.2191 - acc: 0.0406 - val_loss: 3.2198 - val_acc: 0.0374\n",
      "Epoch 37/100\n",
      "16064/17010 [===========================>..] - ETA: 0s - loss: 3.2191 - acc: 0.0382WARNING:tensorflow:Early stopping conditioned on metric `val_accuracy` which is not available. Available metrics are: loss,acc,val_loss,val_acc\n"
     ]
    },
    {
     "name": "stderr",
     "output_type": "stream",
     "text": [
      "WARNING:tensorflow:Early stopping conditioned on metric `val_accuracy` which is not available. Available metrics are: loss,acc,val_loss,val_acc\n"
     ]
    },
    {
     "name": "stdout",
     "output_type": "stream",
     "text": [
      "17010/17010 [==============================] - 1s 53us/sample - loss: 3.2191 - acc: 0.0382 - val_loss: 3.2198 - val_acc: 0.0374\n",
      "Epoch 38/100\n",
      "16992/17010 [============================>.] - ETA: 0s - loss: 3.2191 - acc: 0.0398 - ETA: 0s - loss: 3.2190 - acWARNING:tensorflow:Early stopping conditioned on metric `val_accuracy` which is not available. Available metrics are: loss,acc,val_loss,val_acc\n"
     ]
    },
    {
     "name": "stderr",
     "output_type": "stream",
     "text": [
      "WARNING:tensorflow:Early stopping conditioned on metric `val_accuracy` which is not available. Available metrics are: loss,acc,val_loss,val_acc\n"
     ]
    },
    {
     "name": "stdout",
     "output_type": "stream",
     "text": [
      "17010/17010 [==============================] - 1s 54us/sample - loss: 3.2191 - acc: 0.0397 - val_loss: 3.2197 - val_acc: 0.0374\n",
      "Epoch 39/100\n",
      "16288/17010 [===========================>..] - ETA: 0s - loss: 3.2191 - acc: 0.0407WARNING:tensorflow:Early stopping conditioned on metric `val_accuracy` which is not available. Available metrics are: loss,acc,val_loss,val_acc\n"
     ]
    },
    {
     "name": "stderr",
     "output_type": "stream",
     "text": [
      "WARNING:tensorflow:Early stopping conditioned on metric `val_accuracy` which is not available. Available metrics are: loss,acc,val_loss,val_acc\n"
     ]
    },
    {
     "name": "stdout",
     "output_type": "stream",
     "text": [
      "17010/17010 [==============================] - 1s 53us/sample - loss: 3.2191 - acc: 0.0406 - val_loss: 3.2198 - val_acc: 0.0369\n",
      "Epoch 40/100\n",
      "16384/17010 [===========================>..] - ETA: 0s - loss: 3.2191 - acc: 0.0411WARNING:tensorflow:Early stopping conditioned on metric `val_accuracy` which is not available. Available metrics are: loss,acc,val_loss,val_acc\n"
     ]
    },
    {
     "name": "stderr",
     "output_type": "stream",
     "text": [
      "WARNING:tensorflow:Early stopping conditioned on metric `val_accuracy` which is not available. Available metrics are: loss,acc,val_loss,val_acc\n"
     ]
    },
    {
     "name": "stdout",
     "output_type": "stream",
     "text": [
      "17010/17010 [==============================] - 1s 52us/sample - loss: 3.2191 - acc: 0.0407 - val_loss: 3.2197 - val_acc: 0.0369\n",
      "Epoch 41/100\n",
      "16640/17010 [============================>.] - ETA: 0s - loss: 3.2191 - acc: 0.0409WARNING:tensorflow:Early stopping conditioned on metric `val_accuracy` which is not available. Available metrics are: loss,acc,val_loss,val_acc\n"
     ]
    },
    {
     "name": "stderr",
     "output_type": "stream",
     "text": [
      "WARNING:tensorflow:Early stopping conditioned on metric `val_accuracy` which is not available. Available metrics are: loss,acc,val_loss,val_acc\n"
     ]
    },
    {
     "name": "stdout",
     "output_type": "stream",
     "text": [
      "17010/17010 [==============================] - 1s 52us/sample - loss: 3.2191 - acc: 0.0407 - val_loss: 3.2198 - val_acc: 0.0369\n",
      "Epoch 42/100\n",
      "16992/17010 [============================>.] - ETA: 0s - loss: 3.2191 - acc: 0.0393WARNING:tensorflow:Early stopping conditioned on metric `val_accuracy` which is not available. Available metrics are: loss,acc,val_loss,val_acc\n"
     ]
    },
    {
     "name": "stderr",
     "output_type": "stream",
     "text": [
      "WARNING:tensorflow:Early stopping conditioned on metric `val_accuracy` which is not available. Available metrics are: loss,acc,val_loss,val_acc\n"
     ]
    },
    {
     "name": "stdout",
     "output_type": "stream",
     "text": [
      "17010/17010 [==============================] - 1s 51us/sample - loss: 3.2191 - acc: 0.0392 - val_loss: 3.2198 - val_acc: 0.0369\n",
      "Epoch 43/100\n",
      "16544/17010 [============================>.] - ETA: 0s - loss: 3.2191 - acc: 0.0387WARNING:tensorflow:Early stopping conditioned on metric `val_accuracy` which is not available. Available metrics are: loss,acc,val_loss,val_acc\n"
     ]
    },
    {
     "name": "stderr",
     "output_type": "stream",
     "text": [
      "WARNING:tensorflow:Early stopping conditioned on metric `val_accuracy` which is not available. Available metrics are: loss,acc,val_loss,val_acc\n"
     ]
    },
    {
     "name": "stdout",
     "output_type": "stream",
     "text": [
      "17010/17010 [==============================] - 1s 53us/sample - loss: 3.2191 - acc: 0.0390 - val_loss: 3.2197 - val_acc: 0.0369\n",
      "Epoch 44/100\n",
      "16288/17010 [===========================>..] - ETA: 0s - loss: 3.2191 - acc: 0.0393WARNING:tensorflow:Early stopping conditioned on metric `val_accuracy` which is not available. Available metrics are: loss,acc,val_loss,val_acc\n"
     ]
    },
    {
     "name": "stderr",
     "output_type": "stream",
     "text": [
      "WARNING:tensorflow:Early stopping conditioned on metric `val_accuracy` which is not available. Available metrics are: loss,acc,val_loss,val_acc\n"
     ]
    },
    {
     "name": "stdout",
     "output_type": "stream",
     "text": [
      "17010/17010 [==============================] - 1s 52us/sample - loss: 3.2191 - acc: 0.0389 - val_loss: 3.2198 - val_acc: 0.0369\n",
      "Epoch 45/100\n",
      "16256/17010 [===========================>..] - ETA: 0s - loss: 3.2191 - acc: 0.0399WARNING:tensorflow:Early stopping conditioned on metric `val_accuracy` which is not available. Available metrics are: loss,acc,val_loss,val_acc\n"
     ]
    },
    {
     "name": "stderr",
     "output_type": "stream",
     "text": [
      "WARNING:tensorflow:Early stopping conditioned on metric `val_accuracy` which is not available. Available metrics are: loss,acc,val_loss,val_acc\n"
     ]
    },
    {
     "name": "stdout",
     "output_type": "stream",
     "text": [
      "17010/17010 [==============================] - 1s 53us/sample - loss: 3.2191 - acc: 0.0402 - val_loss: 3.2198 - val_acc: 0.0369\n",
      "Epoch 46/100\n",
      "16000/17010 [===========================>..] - ETA: 0s - loss: 3.2191 - acc: 0.0403WARNING:tensorflow:Early stopping conditioned on metric `val_accuracy` which is not available. Available metrics are: loss,acc,val_loss,val_acc\n"
     ]
    },
    {
     "name": "stderr",
     "output_type": "stream",
     "text": [
      "WARNING:tensorflow:Early stopping conditioned on metric `val_accuracy` which is not available. Available metrics are: loss,acc,val_loss,val_acc\n"
     ]
    },
    {
     "name": "stdout",
     "output_type": "stream",
     "text": [
      "17010/17010 [==============================] - 1s 53us/sample - loss: 3.2191 - acc: 0.0403 - val_loss: 3.2197 - val_acc: 0.0369\n",
      "Epoch 47/100\n",
      "16288/17010 [===========================>..] - ETA: 0s - loss: 3.2191 - acc: 0.0398WARNING:tensorflow:Early stopping conditioned on metric `val_accuracy` which is not available. Available metrics are: loss,acc,val_loss,val_acc\n"
     ]
    },
    {
     "name": "stderr",
     "output_type": "stream",
     "text": [
      "WARNING:tensorflow:Early stopping conditioned on metric `val_accuracy` which is not available. Available metrics are: loss,acc,val_loss,val_acc\n"
     ]
    },
    {
     "name": "stdout",
     "output_type": "stream",
     "text": [
      "17010/17010 [==============================] - 1s 54us/sample - loss: 3.2191 - acc: 0.0400 - val_loss: 3.2198 - val_acc: 0.0369\n",
      "Epoch 48/100\n",
      "16064/17010 [===========================>..] - ETA: 0s - loss: 3.2191 - acc: 0.0412WARNING:tensorflow:Early stopping conditioned on metric `val_accuracy` which is not available. Available metrics are: loss,acc,val_loss,val_acc\n"
     ]
    },
    {
     "name": "stderr",
     "output_type": "stream",
     "text": [
      "WARNING:tensorflow:Early stopping conditioned on metric `val_accuracy` which is not available. Available metrics are: loss,acc,val_loss,val_acc\n"
     ]
    },
    {
     "name": "stdout",
     "output_type": "stream",
     "text": [
      "17010/17010 [==============================] - 1s 60us/sample - loss: 3.2191 - acc: 0.0410 - val_loss: 3.2197 - val_acc: 0.0374\n",
      "Epoch 49/100\n",
      "16064/17010 [===========================>..] - ETA: 0s - loss: 3.2191 - acc: 0.0385WARNING:tensorflow:Early stopping conditioned on metric `val_accuracy` which is not available. Available metrics are: loss,acc,val_loss,val_acc\n"
     ]
    },
    {
     "name": "stderr",
     "output_type": "stream",
     "text": [
      "WARNING:tensorflow:Early stopping conditioned on metric `val_accuracy` which is not available. Available metrics are: loss,acc,val_loss,val_acc\n"
     ]
    },
    {
     "name": "stdout",
     "output_type": "stream",
     "text": [
      "17010/17010 [==============================] - 1s 56us/sample - loss: 3.2191 - acc: 0.0382 - val_loss: 3.2197 - val_acc: 0.0380\n",
      "Epoch 50/100\n",
      "15872/17010 [==========================>...] - ETA: 0s - loss: 3.2191 - acc: 0.0379WARNING:tensorflow:Early stopping conditioned on metric `val_accuracy` which is not available. Available metrics are: loss,acc,val_loss,val_acc\n"
     ]
    },
    {
     "name": "stderr",
     "output_type": "stream",
     "text": [
      "WARNING:tensorflow:Early stopping conditioned on metric `val_accuracy` which is not available. Available metrics are: loss,acc,val_loss,val_acc\n"
     ]
    },
    {
     "name": "stdout",
     "output_type": "stream",
     "text": [
      "17010/17010 [==============================] - 1s 53us/sample - loss: 3.2191 - acc: 0.0375 - val_loss: 3.2197 - val_acc: 0.0374\n",
      "Epoch 51/100\n",
      "16032/17010 [===========================>..] - ETA: 0s - loss: 3.2190 - acc: 0.0392WARNING:tensorflow:Early stopping conditioned on metric `val_accuracy` which is not available. Available metrics are: loss,acc,val_loss,val_acc\n"
     ]
    },
    {
     "name": "stderr",
     "output_type": "stream",
     "text": [
      "WARNING:tensorflow:Early stopping conditioned on metric `val_accuracy` which is not available. Available metrics are: loss,acc,val_loss,val_acc\n"
     ]
    },
    {
     "name": "stdout",
     "output_type": "stream",
     "text": [
      "17010/17010 [==============================] - 1s 54us/sample - loss: 3.2191 - acc: 0.0389 - val_loss: 3.2197 - val_acc: 0.0369\n",
      "Epoch 52/100\n",
      "16224/17010 [===========================>..] - ETA: 0s - loss: 3.2191 - acc: 0.0415WARNING:tensorflow:Early stopping conditioned on metric `val_accuracy` which is not available. Available metrics are: loss,acc,val_loss,val_acc\n"
     ]
    },
    {
     "name": "stderr",
     "output_type": "stream",
     "text": [
      "WARNING:tensorflow:Early stopping conditioned on metric `val_accuracy` which is not available. Available metrics are: loss,acc,val_loss,val_acc\n"
     ]
    },
    {
     "name": "stdout",
     "output_type": "stream",
     "text": [
      "17010/17010 [==============================] - 1s 53us/sample - loss: 3.2191 - acc: 0.0413 - val_loss: 3.2197 - val_acc: 0.0374\n",
      "Epoch 53/100\n",
      "16992/17010 [============================>.] - ETA: 0s - loss: 3.2191 - acc: 0.0392WARNING:tensorflow:Early stopping conditioned on metric `val_accuracy` which is not available. Available metrics are: loss,acc,val_loss,val_acc\n"
     ]
    },
    {
     "name": "stderr",
     "output_type": "stream",
     "text": [
      "WARNING:tensorflow:Early stopping conditioned on metric `val_accuracy` which is not available. Available metrics are: loss,acc,val_loss,val_acc\n"
     ]
    },
    {
     "name": "stdout",
     "output_type": "stream",
     "text": [
      "17010/17010 [==============================] - 1s 55us/sample - loss: 3.2191 - acc: 0.0392 - val_loss: 3.2198 - val_acc: 0.0374\n",
      "Epoch 54/100\n",
      "16928/17010 [============================>.] - ETA: 0s - loss: 3.2191 - acc: 0.0390WARNING:tensorflow:Early stopping conditioned on metric `val_accuracy` which is not available. Available metrics are: loss,acc,val_loss,val_acc\n"
     ]
    },
    {
     "name": "stderr",
     "output_type": "stream",
     "text": [
      "WARNING:tensorflow:Early stopping conditioned on metric `val_accuracy` which is not available. Available metrics are: loss,acc,val_loss,val_acc\n"
     ]
    },
    {
     "name": "stdout",
     "output_type": "stream",
     "text": [
      "17010/17010 [==============================] - 1s 55us/sample - loss: 3.2191 - acc: 0.0389 - val_loss: 3.2197 - val_acc: 0.0369\n",
      "Epoch 55/100\n",
      "16000/17010 [===========================>..] - ETA: 0s - loss: 3.2191 - acc: 0.0401WARNING:tensorflow:Early stopping conditioned on metric `val_accuracy` which is not available. Available metrics are: loss,acc,val_loss,val_acc\n"
     ]
    },
    {
     "name": "stderr",
     "output_type": "stream",
     "text": [
      "WARNING:tensorflow:Early stopping conditioned on metric `val_accuracy` which is not available. Available metrics are: loss,acc,val_loss,val_acc\n"
     ]
    },
    {
     "name": "stdout",
     "output_type": "stream",
     "text": [
      "17010/17010 [==============================] - 1s 54us/sample - loss: 3.2191 - acc: 0.0399 - val_loss: 3.2197 - val_acc: 0.0374\n",
      "Epoch 56/100\n",
      "15968/17010 [===========================>..] - ETA: 0s - loss: 3.2191 - acc: 0.0398WARNING:tensorflow:Early stopping conditioned on metric `val_accuracy` which is not available. Available metrics are: loss,acc,val_loss,val_acc\n"
     ]
    },
    {
     "name": "stderr",
     "output_type": "stream",
     "text": [
      "WARNING:tensorflow:Early stopping conditioned on metric `val_accuracy` which is not available. Available metrics are: loss,acc,val_loss,val_acc\n"
     ]
    },
    {
     "name": "stdout",
     "output_type": "stream",
     "text": [
      "17010/17010 [==============================] - 1s 54us/sample - loss: 3.2191 - acc: 0.0402 - val_loss: 3.2197 - val_acc: 0.0369\n",
      "Epoch 57/100\n",
      "16832/17010 [============================>.] - ETA: 0s - loss: 3.2191 - acc: 0.0386WARNING:tensorflow:Early stopping conditioned on metric `val_accuracy` which is not available. Available metrics are: loss,acc,val_loss,val_acc\n"
     ]
    },
    {
     "name": "stderr",
     "output_type": "stream",
     "text": [
      "WARNING:tensorflow:Early stopping conditioned on metric `val_accuracy` which is not available. Available metrics are: loss,acc,val_loss,val_acc\n"
     ]
    },
    {
     "name": "stdout",
     "output_type": "stream",
     "text": [
      "17010/17010 [==============================] - 1s 55us/sample - loss: 3.2191 - acc: 0.0386 - val_loss: 3.2197 - val_acc: 0.0369\n",
      "Epoch 58/100\n",
      "16224/17010 [===========================>..] - ETA: 0s - loss: 3.2191 - acc: 0.0410WARNING:tensorflow:Early stopping conditioned on metric `val_accuracy` which is not available. Available metrics are: loss,acc,val_loss,val_acc\n"
     ]
    },
    {
     "name": "stderr",
     "output_type": "stream",
     "text": [
      "WARNING:tensorflow:Early stopping conditioned on metric `val_accuracy` which is not available. Available metrics are: loss,acc,val_loss,val_acc\n"
     ]
    },
    {
     "name": "stdout",
     "output_type": "stream",
     "text": [
      "17010/17010 [==============================] - 1s 54us/sample - loss: 3.2191 - acc: 0.0403 - val_loss: 3.2197 - val_acc: 0.0369\n",
      "Epoch 59/100\n",
      "16992/17010 [============================>.] - ETA: 0s - loss: 3.2191 - acc: 0.0407WARNING:tensorflow:Early stopping conditioned on metric `val_accuracy` which is not available. Available metrics are: loss,acc,val_loss,val_acc\n"
     ]
    },
    {
     "name": "stderr",
     "output_type": "stream",
     "text": [
      "WARNING:tensorflow:Early stopping conditioned on metric `val_accuracy` which is not available. Available metrics are: loss,acc,val_loss,val_acc\n"
     ]
    },
    {
     "name": "stdout",
     "output_type": "stream",
     "text": [
      "17010/17010 [==============================] - 1s 56us/sample - loss: 3.2191 - acc: 0.0406 - val_loss: 3.2197 - val_acc: 0.0380\n",
      "Epoch 60/100\n",
      "16288/17010 [===========================>..] - ETA: 0s - loss: 3.2191 - acc: 0.0394WARNING:tensorflow:Early stopping conditioned on metric `val_accuracy` which is not available. Available metrics are: loss,acc,val_loss,val_acc\n"
     ]
    },
    {
     "name": "stderr",
     "output_type": "stream",
     "text": [
      "WARNING:tensorflow:Early stopping conditioned on metric `val_accuracy` which is not available. Available metrics are: loss,acc,val_loss,val_acc\n"
     ]
    },
    {
     "name": "stdout",
     "output_type": "stream",
     "text": [
      "17010/17010 [==============================] - 1s 53us/sample - loss: 3.2191 - acc: 0.0393 - val_loss: 3.2197 - val_acc: 0.0380\n",
      "Epoch 61/100\n",
      "16416/17010 [===========================>..] - ETA: 0s - loss: 3.2191 - acc: 0.0386WARNING:tensorflow:Early stopping conditioned on metric `val_accuracy` which is not available. Available metrics are: loss,acc,val_loss,val_acc\n"
     ]
    },
    {
     "name": "stderr",
     "output_type": "stream",
     "text": [
      "WARNING:tensorflow:Early stopping conditioned on metric `val_accuracy` which is not available. Available metrics are: loss,acc,val_loss,val_acc\n"
     ]
    },
    {
     "name": "stdout",
     "output_type": "stream",
     "text": [
      "17010/17010 [==============================] - 1s 58us/sample - loss: 3.2191 - acc: 0.0384 - val_loss: 3.2196 - val_acc: 0.0369\n",
      "Epoch 62/100\n",
      "16320/17010 [===========================>..] - ETA: 0s - loss: 3.2192 - acc: 0.0393WARNING:tensorflow:Early stopping conditioned on metric `val_accuracy` which is not available. Available metrics are: loss,acc,val_loss,val_acc\n"
     ]
    },
    {
     "name": "stderr",
     "output_type": "stream",
     "text": [
      "WARNING:tensorflow:Early stopping conditioned on metric `val_accuracy` which is not available. Available metrics are: loss,acc,val_loss,val_acc\n"
     ]
    },
    {
     "name": "stdout",
     "output_type": "stream",
     "text": [
      "17010/17010 [==============================] - 1s 61us/sample - loss: 3.2191 - acc: 0.0396 - val_loss: 3.2197 - val_acc: 0.0374\n",
      "Epoch 63/100\n",
      "16544/17010 [============================>.] - ETA: 0s - loss: 3.2191 - acc: 0.0386WARNING:tensorflow:Early stopping conditioned on metric `val_accuracy` which is not available. Available metrics are: loss,acc,val_loss,val_acc\n"
     ]
    },
    {
     "name": "stderr",
     "output_type": "stream",
     "text": [
      "WARNING:tensorflow:Early stopping conditioned on metric `val_accuracy` which is not available. Available metrics are: loss,acc,val_loss,val_acc\n"
     ]
    },
    {
     "name": "stdout",
     "output_type": "stream",
     "text": [
      "17010/17010 [==============================] - 1s 59us/sample - loss: 3.2191 - acc: 0.0383 - val_loss: 3.2197 - val_acc: 0.0374\n",
      "Epoch 64/100\n",
      "16448/17010 [============================>.] - ETA: 0s - loss: 3.2191 - acc: 0.0403WARNING:tensorflow:Early stopping conditioned on metric `val_accuracy` which is not available. Available metrics are: loss,acc,val_loss,val_acc\n"
     ]
    },
    {
     "name": "stderr",
     "output_type": "stream",
     "text": [
      "WARNING:tensorflow:Early stopping conditioned on metric `val_accuracy` which is not available. Available metrics are: loss,acc,val_loss,val_acc\n"
     ]
    },
    {
     "name": "stdout",
     "output_type": "stream",
     "text": [
      "17010/17010 [==============================] - 1s 57us/sample - loss: 3.2191 - acc: 0.0402 - val_loss: 3.2197 - val_acc: 0.0369\n",
      "Epoch 65/100\n",
      "16320/17010 [===========================>..] - ETA: 0s - loss: 3.2191 - acc: 0.0398WARNING:tensorflow:Early stopping conditioned on metric `val_accuracy` which is not available. Available metrics are: loss,acc,val_loss,val_acc\n"
     ]
    },
    {
     "name": "stderr",
     "output_type": "stream",
     "text": [
      "WARNING:tensorflow:Early stopping conditioned on metric `val_accuracy` which is not available. Available metrics are: loss,acc,val_loss,val_acc\n"
     ]
    },
    {
     "name": "stdout",
     "output_type": "stream",
     "text": [
      "17010/17010 [==============================] - 1s 57us/sample - loss: 3.2191 - acc: 0.0396 - val_loss: 3.2197 - val_acc: 0.0369\n",
      "Epoch 66/100\n",
      "16320/17010 [===========================>..] - ETA: 0s - loss: 3.2191 - acc: 0.0397WARNING:tensorflow:Early stopping conditioned on metric `val_accuracy` which is not available. Available metrics are: loss,acc,val_loss,val_acc\n"
     ]
    },
    {
     "name": "stderr",
     "output_type": "stream",
     "text": [
      "WARNING:tensorflow:Early stopping conditioned on metric `val_accuracy` which is not available. Available metrics are: loss,acc,val_loss,val_acc\n"
     ]
    },
    {
     "name": "stdout",
     "output_type": "stream",
     "text": [
      "17010/17010 [==============================] - 1s 57us/sample - loss: 3.2191 - acc: 0.0393 - val_loss: 3.2197 - val_acc: 0.0369\n",
      "Epoch 67/100\n",
      "16832/17010 [============================>.] - ETA: 0s - loss: 3.2191 - acc: 0.0392WARNING:tensorflow:Early stopping conditioned on metric `val_accuracy` which is not available. Available metrics are: loss,acc,val_loss,val_acc\n"
     ]
    },
    {
     "name": "stderr",
     "output_type": "stream",
     "text": [
      "WARNING:tensorflow:Early stopping conditioned on metric `val_accuracy` which is not available. Available metrics are: loss,acc,val_loss,val_acc\n"
     ]
    },
    {
     "name": "stdout",
     "output_type": "stream",
     "text": [
      "17010/17010 [==============================] - 1s 56us/sample - loss: 3.2191 - acc: 0.0393 - val_loss: 3.2197 - val_acc: 0.0369\n",
      "Epoch 68/100\n",
      "16960/17010 [============================>.] - ETA: 0s - loss: 3.2191 - acc: 0.0407WARNING:tensorflow:Early stopping conditioned on metric `val_accuracy` which is not available. Available metrics are: loss,acc,val_loss,val_acc\n"
     ]
    },
    {
     "name": "stderr",
     "output_type": "stream",
     "text": [
      "WARNING:tensorflow:Early stopping conditioned on metric `val_accuracy` which is not available. Available metrics are: loss,acc,val_loss,val_acc\n"
     ]
    },
    {
     "name": "stdout",
     "output_type": "stream",
     "text": [
      "17010/17010 [==============================] - 1s 55us/sample - loss: 3.2191 - acc: 0.0408 - val_loss: 3.2197 - val_acc: 0.0369\n",
      "Epoch 69/100\n",
      "16672/17010 [============================>.] - ETA: 0s - loss: 3.2191 - acc: 0.0394WARNING:tensorflow:Early stopping conditioned on metric `val_accuracy` which is not available. Available metrics are: loss,acc,val_loss,val_acc\n"
     ]
    },
    {
     "name": "stderr",
     "output_type": "stream",
     "text": [
      "WARNING:tensorflow:Early stopping conditioned on metric `val_accuracy` which is not available. Available metrics are: loss,acc,val_loss,val_acc\n"
     ]
    },
    {
     "name": "stdout",
     "output_type": "stream",
     "text": [
      "17010/17010 [==============================] - 1s 56us/sample - loss: 3.2191 - acc: 0.0394 - val_loss: 3.2198 - val_acc: 0.0374\n",
      "Epoch 70/100\n",
      "16672/17010 [============================>.] - ETA: 0s - loss: 3.2191 - acc: 0.0387WARNING:tensorflow:Early stopping conditioned on metric `val_accuracy` which is not available. Available metrics are: loss,acc,val_loss,val_acc\n"
     ]
    },
    {
     "name": "stderr",
     "output_type": "stream",
     "text": [
      "WARNING:tensorflow:Early stopping conditioned on metric `val_accuracy` which is not available. Available metrics are: loss,acc,val_loss,val_acc\n"
     ]
    },
    {
     "name": "stdout",
     "output_type": "stream",
     "text": [
      "17010/17010 [==============================] - 1s 56us/sample - loss: 3.2191 - acc: 0.0388 - val_loss: 3.2198 - val_acc: 0.0374\n",
      "Epoch 71/100\n",
      "16960/17010 [============================>.] - ETA: 0s - loss: 3.2191 - acc: 0.0396WARNING:tensorflow:Early stopping conditioned on metric `val_accuracy` which is not available. Available metrics are: loss,acc,val_loss,val_acc\n"
     ]
    },
    {
     "name": "stderr",
     "output_type": "stream",
     "text": [
      "WARNING:tensorflow:Early stopping conditioned on metric `val_accuracy` which is not available. Available metrics are: loss,acc,val_loss,val_acc\n"
     ]
    },
    {
     "name": "stdout",
     "output_type": "stream",
     "text": [
      "17010/17010 [==============================] - 1s 55us/sample - loss: 3.2191 - acc: 0.0398 - val_loss: 3.2198 - val_acc: 0.0369\n",
      "Epoch 72/100\n",
      "16000/17010 [===========================>..] - ETA: 0s - loss: 3.2191 - acc: 0.0403WARNING:tensorflow:Early stopping conditioned on metric `val_accuracy` which is not available. Available metrics are: loss,acc,val_loss,val_acc\n"
     ]
    },
    {
     "name": "stderr",
     "output_type": "stream",
     "text": [
      "WARNING:tensorflow:Early stopping conditioned on metric `val_accuracy` which is not available. Available metrics are: loss,acc,val_loss,val_acc\n"
     ]
    },
    {
     "name": "stdout",
     "output_type": "stream",
     "text": [
      "17010/17010 [==============================] - 1s 53us/sample - loss: 3.2191 - acc: 0.0400 - val_loss: 3.2198 - val_acc: 0.0374\n",
      "Epoch 73/100\n",
      "15968/17010 [===========================>..] - ETA: 0s - loss: 3.2191 - acc: 0.0395WARNING:tensorflow:Early stopping conditioned on metric `val_accuracy` which is not available. Available metrics are: loss,acc,val_loss,val_acc\n"
     ]
    },
    {
     "name": "stderr",
     "output_type": "stream",
     "text": [
      "WARNING:tensorflow:Early stopping conditioned on metric `val_accuracy` which is not available. Available metrics are: loss,acc,val_loss,val_acc\n"
     ]
    },
    {
     "name": "stdout",
     "output_type": "stream",
     "text": [
      "17010/17010 [==============================] - 1s 54us/sample - loss: 3.2191 - acc: 0.0397 - val_loss: 3.2198 - val_acc: 0.0369\n",
      "Epoch 74/100\n",
      "15872/17010 [==========================>...] - ETA: 0s - loss: 3.2191 - acc: 0.0411WARNING:tensorflow:Early stopping conditioned on metric `val_accuracy` which is not available. Available metrics are: loss,acc,val_loss,val_acc\n"
     ]
    },
    {
     "name": "stderr",
     "output_type": "stream",
     "text": [
      "WARNING:tensorflow:Early stopping conditioned on metric `val_accuracy` which is not available. Available metrics are: loss,acc,val_loss,val_acc\n"
     ]
    },
    {
     "name": "stdout",
     "output_type": "stream",
     "text": [
      "17010/17010 [==============================] - 1s 54us/sample - loss: 3.2191 - acc: 0.0409 - val_loss: 3.2197 - val_acc: 0.0369\n",
      "Epoch 75/100\n",
      "16352/17010 [===========================>..] - ETA: 0s - loss: 3.2191 - acc: 0.0393WARNING:tensorflow:Early stopping conditioned on metric `val_accuracy` which is not available. Available metrics are: loss,acc,val_loss,val_acc\n"
     ]
    },
    {
     "name": "stderr",
     "output_type": "stream",
     "text": [
      "WARNING:tensorflow:Early stopping conditioned on metric `val_accuracy` which is not available. Available metrics are: loss,acc,val_loss,val_acc\n"
     ]
    },
    {
     "name": "stdout",
     "output_type": "stream",
     "text": [
      "17010/17010 [==============================] - 1s 56us/sample - loss: 3.2191 - acc: 0.0396 - val_loss: 3.2197 - val_acc: 0.0369\n",
      "Epoch 76/100\n",
      "16032/17010 [===========================>..] - ETA: 0s - loss: 3.2191 - acc: 0.0409WARNING:tensorflow:Early stopping conditioned on metric `val_accuracy` which is not available. Available metrics are: loss,acc,val_loss,val_acc\n"
     ]
    },
    {
     "name": "stderr",
     "output_type": "stream",
     "text": [
      "WARNING:tensorflow:Early stopping conditioned on metric `val_accuracy` which is not available. Available metrics are: loss,acc,val_loss,val_acc\n"
     ]
    },
    {
     "name": "stdout",
     "output_type": "stream",
     "text": [
      "17010/17010 [==============================] - 1s 56us/sample - loss: 3.2191 - acc: 0.0410 - val_loss: 3.2198 - val_acc: 0.0369\n",
      "Epoch 77/100\n",
      "16480/17010 [============================>.] - ETA: 0s - loss: 3.2191 - acc: 0.0393WARNING:tensorflow:Early stopping conditioned on metric `val_accuracy` which is not available. Available metrics are: loss,acc,val_loss,val_acc\n"
     ]
    },
    {
     "name": "stderr",
     "output_type": "stream",
     "text": [
      "WARNING:tensorflow:Early stopping conditioned on metric `val_accuracy` which is not available. Available metrics are: loss,acc,val_loss,val_acc\n"
     ]
    },
    {
     "name": "stdout",
     "output_type": "stream",
     "text": [
      "17010/17010 [==============================] - 1s 53us/sample - loss: 3.2191 - acc: 0.0393 - val_loss: 3.2197 - val_acc: 0.0369\n",
      "Epoch 78/100\n",
      "16128/17010 [===========================>..] - ETA: 0s - loss: 3.2191 - acc: 0.0388WARNING:tensorflow:Early stopping conditioned on metric `val_accuracy` which is not available. Available metrics are: loss,acc,val_loss,val_acc\n"
     ]
    },
    {
     "name": "stderr",
     "output_type": "stream",
     "text": [
      "WARNING:tensorflow:Early stopping conditioned on metric `val_accuracy` which is not available. Available metrics are: loss,acc,val_loss,val_acc\n"
     ]
    },
    {
     "name": "stdout",
     "output_type": "stream",
     "text": [
      "17010/17010 [==============================] - 1s 54us/sample - loss: 3.2191 - acc: 0.0394 - val_loss: 3.2198 - val_acc: 0.0369\n",
      "Epoch 79/100\n",
      "15872/17010 [==========================>...] - ETA: 0s - loss: 3.2191 - acc: 0.0413WARNING:tensorflow:Early stopping conditioned on metric `val_accuracy` which is not available. Available metrics are: loss,acc,val_loss,val_acc\n"
     ]
    },
    {
     "name": "stderr",
     "output_type": "stream",
     "text": [
      "WARNING:tensorflow:Early stopping conditioned on metric `val_accuracy` which is not available. Available metrics are: loss,acc,val_loss,val_acc\n"
     ]
    },
    {
     "name": "stdout",
     "output_type": "stream",
     "text": [
      "17010/17010 [==============================] - 1s 55us/sample - loss: 3.2191 - acc: 0.0408 - val_loss: 3.2198 - val_acc: 0.0369\n",
      "Epoch 80/100\n",
      "16736/17010 [============================>.] - ETA: 0s - loss: 3.2191 - acc: 0.0405WARNING:tensorflow:Early stopping conditioned on metric `val_accuracy` which is not available. Available metrics are: loss,acc,val_loss,val_acc\n"
     ]
    },
    {
     "name": "stderr",
     "output_type": "stream",
     "text": [
      "WARNING:tensorflow:Early stopping conditioned on metric `val_accuracy` which is not available. Available metrics are: loss,acc,val_loss,val_acc\n"
     ]
    },
    {
     "name": "stdout",
     "output_type": "stream",
     "text": [
      "17010/17010 [==============================] - 1s 61us/sample - loss: 3.2191 - acc: 0.0406 - val_loss: 3.2198 - val_acc: 0.0369\n",
      "Epoch 81/100\n",
      "16608/17010 [============================>.] - ETA: 0s - loss: 3.2191 - acc: 0.0406WARNING:tensorflow:Early stopping conditioned on metric `val_accuracy` which is not available. Available metrics are: loss,acc,val_loss,val_acc\n"
     ]
    },
    {
     "name": "stderr",
     "output_type": "stream",
     "text": [
      "WARNING:tensorflow:Early stopping conditioned on metric `val_accuracy` which is not available. Available metrics are: loss,acc,val_loss,val_acc\n"
     ]
    },
    {
     "name": "stdout",
     "output_type": "stream",
     "text": [
      "17010/17010 [==============================] - 1s 56us/sample - loss: 3.2191 - acc: 0.0408 - val_loss: 3.2198 - val_acc: 0.0369\n",
      "Epoch 82/100\n",
      "16224/17010 [===========================>..] - ETA: 0s - loss: 3.2191 - acc: 0.0369WARNING:tensorflow:Early stopping conditioned on metric `val_accuracy` which is not available. Available metrics are: loss,acc,val_loss,val_acc\n"
     ]
    },
    {
     "name": "stderr",
     "output_type": "stream",
     "text": [
      "WARNING:tensorflow:Early stopping conditioned on metric `val_accuracy` which is not available. Available metrics are: loss,acc,val_loss,val_acc\n"
     ]
    },
    {
     "name": "stdout",
     "output_type": "stream",
     "text": [
      "17010/17010 [==============================] - 1s 53us/sample - loss: 3.2191 - acc: 0.0367 - val_loss: 3.2198 - val_acc: 0.0369\n",
      "Epoch 83/100\n",
      "16192/17010 [===========================>..] - ETA: 0s - loss: 3.2191 - acc: 0.0387WARNING:tensorflow:Early stopping conditioned on metric `val_accuracy` which is not available. Available metrics are: loss,acc,val_loss,val_acc\n"
     ]
    },
    {
     "name": "stderr",
     "output_type": "stream",
     "text": [
      "WARNING:tensorflow:Early stopping conditioned on metric `val_accuracy` which is not available. Available metrics are: loss,acc,val_loss,val_acc\n"
     ]
    },
    {
     "name": "stdout",
     "output_type": "stream",
     "text": [
      "17010/17010 [==============================] - 1s 53us/sample - loss: 3.2191 - acc: 0.0389 - val_loss: 3.2198 - val_acc: 0.0369\n",
      "Epoch 84/100\n",
      "15904/17010 [===========================>..] - ETA: 0s - loss: 3.2191 - acc: 0.0372WARNING:tensorflow:Early stopping conditioned on metric `val_accuracy` which is not available. Available metrics are: loss,acc,val_loss,val_acc\n"
     ]
    },
    {
     "name": "stderr",
     "output_type": "stream",
     "text": [
      "WARNING:tensorflow:Early stopping conditioned on metric `val_accuracy` which is not available. Available metrics are: loss,acc,val_loss,val_acc\n"
     ]
    },
    {
     "name": "stdout",
     "output_type": "stream",
     "text": [
      "17010/17010 [==============================] - 1s 57us/sample - loss: 3.2191 - acc: 0.0374 - val_loss: 3.2197 - val_acc: 0.0369\n",
      "Epoch 85/100\n",
      "16704/17010 [============================>.] - ETA: 0s - loss: 3.2191 - acc: 0.0389WARNING:tensorflow:Early stopping conditioned on metric `val_accuracy` which is not available. Available metrics are: loss,acc,val_loss,val_acc\n"
     ]
    },
    {
     "name": "stderr",
     "output_type": "stream",
     "text": [
      "WARNING:tensorflow:Early stopping conditioned on metric `val_accuracy` which is not available. Available metrics are: loss,acc,val_loss,val_acc\n"
     ]
    },
    {
     "name": "stdout",
     "output_type": "stream",
     "text": [
      "17010/17010 [==============================] - 1s 56us/sample - loss: 3.2191 - acc: 0.0393 - val_loss: 3.2198 - val_acc: 0.0369\n",
      "Epoch 86/100\n",
      "16352/17010 [===========================>..] - ETA: 0s - loss: 3.2191 - acc: 0.0385WARNING:tensorflow:Early stopping conditioned on metric `val_accuracy` which is not available. Available metrics are: loss,acc,val_loss,val_acc\n"
     ]
    },
    {
     "name": "stderr",
     "output_type": "stream",
     "text": [
      "WARNING:tensorflow:Early stopping conditioned on metric `val_accuracy` which is not available. Available metrics are: loss,acc,val_loss,val_acc\n"
     ]
    },
    {
     "name": "stdout",
     "output_type": "stream",
     "text": [
      "17010/17010 [==============================] - 1s 60us/sample - loss: 3.2191 - acc: 0.0387 - val_loss: 3.2198 - val_acc: 0.0369\n",
      "Epoch 87/100\n",
      "15936/17010 [===========================>..] - ETA: 0s - loss: 3.2190 - acc: 0.0419WARNING:tensorflow:Early stopping conditioned on metric `val_accuracy` which is not available. Available metrics are: loss,acc,val_loss,val_acc\n"
     ]
    },
    {
     "name": "stderr",
     "output_type": "stream",
     "text": [
      "WARNING:tensorflow:Early stopping conditioned on metric `val_accuracy` which is not available. Available metrics are: loss,acc,val_loss,val_acc\n"
     ]
    },
    {
     "name": "stdout",
     "output_type": "stream",
     "text": [
      "17010/17010 [==============================] - 1s 54us/sample - loss: 3.2191 - acc: 0.0410 - val_loss: 3.2197 - val_acc: 0.0369\n",
      "Epoch 88/100\n",
      "16608/17010 [============================>.] - ETA: 0s - loss: 3.2191 - acc: 0.0409WARNING:tensorflow:Early stopping conditioned on metric `val_accuracy` which is not available. Available metrics are: loss,acc,val_loss,val_acc\n"
     ]
    },
    {
     "name": "stderr",
     "output_type": "stream",
     "text": [
      "WARNING:tensorflow:Early stopping conditioned on metric `val_accuracy` which is not available. Available metrics are: loss,acc,val_loss,val_acc\n"
     ]
    },
    {
     "name": "stdout",
     "output_type": "stream",
     "text": [
      "17010/17010 [==============================] - 1s 53us/sample - loss: 3.2191 - acc: 0.0412 - val_loss: 3.2198 - val_acc: 0.0369\n",
      "Epoch 89/100\n",
      "15904/17010 [===========================>..] - ETA: 0s - loss: 3.2190 - acc: 0.0382WARNING:tensorflow:Early stopping conditioned on metric `val_accuracy` which is not available. Available metrics are: loss,acc,val_loss,val_acc\n"
     ]
    },
    {
     "name": "stderr",
     "output_type": "stream",
     "text": [
      "WARNING:tensorflow:Early stopping conditioned on metric `val_accuracy` which is not available. Available metrics are: loss,acc,val_loss,val_acc\n"
     ]
    },
    {
     "name": "stdout",
     "output_type": "stream",
     "text": [
      "17010/17010 [==============================] - 1s 54us/sample - loss: 3.2191 - acc: 0.0386 - val_loss: 3.2197 - val_acc: 0.0369\n",
      "Epoch 90/100\n",
      "16192/17010 [===========================>..] - ETA: 0s - loss: 3.2191 - acc: 0.0381WARNING:tensorflow:Early stopping conditioned on metric `val_accuracy` which is not available. Available metrics are: loss,acc,val_loss,val_acc\n"
     ]
    },
    {
     "name": "stderr",
     "output_type": "stream",
     "text": [
      "WARNING:tensorflow:Early stopping conditioned on metric `val_accuracy` which is not available. Available metrics are: loss,acc,val_loss,val_acc\n"
     ]
    },
    {
     "name": "stdout",
     "output_type": "stream",
     "text": [
      "17010/17010 [==============================] - 1s 54us/sample - loss: 3.2191 - acc: 0.0384 - val_loss: 3.2197 - val_acc: 0.0369\n",
      "Epoch 91/100\n",
      "16224/17010 [===========================>..] - ETA: 0s - loss: 3.2191 - acc: 0.0393WARNING:tensorflow:Early stopping conditioned on metric `val_accuracy` which is not available. Available metrics are: loss,acc,val_loss,val_acc\n"
     ]
    },
    {
     "name": "stderr",
     "output_type": "stream",
     "text": [
      "WARNING:tensorflow:Early stopping conditioned on metric `val_accuracy` which is not available. Available metrics are: loss,acc,val_loss,val_acc\n"
     ]
    },
    {
     "name": "stdout",
     "output_type": "stream",
     "text": [
      "17010/17010 [==============================] - 1s 59us/sample - loss: 3.2191 - acc: 0.0392 - val_loss: 3.2197 - val_acc: 0.0369\n",
      "Epoch 92/100\n",
      "16416/17010 [===========================>..] - ETA: 0s - loss: 3.2191 - acc: 0.0385WARNING:tensorflow:Early stopping conditioned on metric `val_accuracy` which is not available. Available metrics are: loss,acc,val_loss,val_acc\n"
     ]
    },
    {
     "name": "stderr",
     "output_type": "stream",
     "text": [
      "WARNING:tensorflow:Early stopping conditioned on metric `val_accuracy` which is not available. Available metrics are: loss,acc,val_loss,val_acc\n"
     ]
    },
    {
     "name": "stdout",
     "output_type": "stream",
     "text": [
      "17010/17010 [==============================] - 1s 53us/sample - loss: 3.2191 - acc: 0.0387 - val_loss: 3.2198 - val_acc: 0.0369\n",
      "Epoch 93/100\n",
      "16736/17010 [============================>.] - ETA: 0s - loss: 3.2191 - acc: 0.0402WARNING:tensorflow:Early stopping conditioned on metric `val_accuracy` which is not available. Available metrics are: loss,acc,val_loss,val_acc\n"
     ]
    },
    {
     "name": "stderr",
     "output_type": "stream",
     "text": [
      "WARNING:tensorflow:Early stopping conditioned on metric `val_accuracy` which is not available. Available metrics are: loss,acc,val_loss,val_acc\n"
     ]
    },
    {
     "name": "stdout",
     "output_type": "stream",
     "text": [
      "17010/17010 [==============================] - 1s 55us/sample - loss: 3.2191 - acc: 0.0399 - val_loss: 3.2197 - val_acc: 0.0369\n",
      "Epoch 94/100\n",
      "16448/17010 [============================>.] - ETA: 0s - loss: 3.2191 - acc: 0.0402WARNING:tensorflow:Early stopping conditioned on metric `val_accuracy` which is not available. Available metrics are: loss,acc,val_loss,val_acc\n"
     ]
    },
    {
     "name": "stderr",
     "output_type": "stream",
     "text": [
      "WARNING:tensorflow:Early stopping conditioned on metric `val_accuracy` which is not available. Available metrics are: loss,acc,val_loss,val_acc\n"
     ]
    },
    {
     "name": "stdout",
     "output_type": "stream",
     "text": [
      "17010/17010 [==============================] - 1s 53us/sample - loss: 3.2191 - acc: 0.0402 - val_loss: 3.2198 - val_acc: 0.0369\n",
      "Epoch 95/100\n",
      "16416/17010 [===========================>..] - ETA: 0s - loss: 3.2191 - acc: 0.0390WARNING:tensorflow:Early stopping conditioned on metric `val_accuracy` which is not available. Available metrics are: loss,acc,val_loss,val_acc\n"
     ]
    },
    {
     "name": "stderr",
     "output_type": "stream",
     "text": [
      "WARNING:tensorflow:Early stopping conditioned on metric `val_accuracy` which is not available. Available metrics are: loss,acc,val_loss,val_acc\n"
     ]
    },
    {
     "name": "stdout",
     "output_type": "stream",
     "text": [
      "17010/17010 [==============================] - 1s 53us/sample - loss: 3.2191 - acc: 0.0392 - val_loss: 3.2198 - val_acc: 0.0369\n",
      "Epoch 96/100\n",
      "16160/17010 [===========================>..] - ETA: 0s - loss: 3.2190 - acc: 0.0395WARNING:tensorflow:Early stopping conditioned on metric `val_accuracy` which is not available. Available metrics are: loss,acc,val_loss,val_acc\n"
     ]
    },
    {
     "name": "stderr",
     "output_type": "stream",
     "text": [
      "WARNING:tensorflow:Early stopping conditioned on metric `val_accuracy` which is not available. Available metrics are: loss,acc,val_loss,val_acc\n"
     ]
    },
    {
     "name": "stdout",
     "output_type": "stream",
     "text": [
      "17010/17010 [==============================] - 1s 54us/sample - loss: 3.2191 - acc: 0.0392 - val_loss: 3.2198 - val_acc: 0.0369\n",
      "Epoch 97/100\n",
      "16096/17010 [===========================>..] - ETA: 0s - loss: 3.2191 - acc: 0.0403WARNING:tensorflow:Early stopping conditioned on metric `val_accuracy` which is not available. Available metrics are: loss,acc,val_loss,val_acc\n"
     ]
    },
    {
     "name": "stderr",
     "output_type": "stream",
     "text": [
      "WARNING:tensorflow:Early stopping conditioned on metric `val_accuracy` which is not available. Available metrics are: loss,acc,val_loss,val_acc\n"
     ]
    },
    {
     "name": "stdout",
     "output_type": "stream",
     "text": [
      "17010/17010 [==============================] - 1s 54us/sample - loss: 3.2191 - acc: 0.0402 - val_loss: 3.2197 - val_acc: 0.0369\n",
      "Epoch 98/100\n",
      "16224/17010 [===========================>..] - ETA: 0s - loss: 3.2191 - acc: 0.0389WARNING:tensorflow:Early stopping conditioned on metric `val_accuracy` which is not available. Available metrics are: loss,acc,val_loss,val_acc\n"
     ]
    },
    {
     "name": "stderr",
     "output_type": "stream",
     "text": [
      "WARNING:tensorflow:Early stopping conditioned on metric `val_accuracy` which is not available. Available metrics are: loss,acc,val_loss,val_acc\n"
     ]
    },
    {
     "name": "stdout",
     "output_type": "stream",
     "text": [
      "17010/17010 [==============================] - 1s 54us/sample - loss: 3.2191 - acc: 0.0391 - val_loss: 3.2198 - val_acc: 0.0369\n",
      "Epoch 99/100\n",
      "16704/17010 [============================>.] - ETA: 0s - loss: 3.2191 - acc: 0.0387WARNING:tensorflow:Early stopping conditioned on metric `val_accuracy` which is not available. Available metrics are: loss,acc,val_loss,val_acc\n"
     ]
    },
    {
     "name": "stderr",
     "output_type": "stream",
     "text": [
      "WARNING:tensorflow:Early stopping conditioned on metric `val_accuracy` which is not available. Available metrics are: loss,acc,val_loss,val_acc\n"
     ]
    },
    {
     "name": "stdout",
     "output_type": "stream",
     "text": [
      "17010/17010 [==============================] - 1s 63us/sample - loss: 3.2191 - acc: 0.0390 - val_loss: 3.2197 - val_acc: 0.0369\n",
      "Epoch 100/100\n",
      "16640/17010 [============================>.] - ETA: 0s - loss: 3.2191 - acc: 0.0396WARNING:tensorflow:Early stopping conditioned on metric `val_accuracy` which is not available. Available metrics are: loss,acc,val_loss,val_acc\n"
     ]
    },
    {
     "name": "stderr",
     "output_type": "stream",
     "text": [
      "WARNING:tensorflow:Early stopping conditioned on metric `val_accuracy` which is not available. Available metrics are: loss,acc,val_loss,val_acc\n"
     ]
    },
    {
     "name": "stdout",
     "output_type": "stream",
     "text": [
      "\b\b\b\b\b\b\b\b\b\b\b\b\b\b\b\b\b\b\b\b\b\b\b\b\b\b\b\b\b\b\b\b\b\b\b\b\b\b\b\b\b\b\b\b\b\b\b\b\b\b\b\b\b\b\b\b\b\b\b\b\b\b\b\b\b\b\b\b\b\b\b\b\b\b\b\b\b\b\b\b\b\b\b\r",
      "17010/17010 [==============================] - 1s 63us/sample - loss: 3.2191 - acc: 0.0398 - val_loss: 3.2198 - val_acc: 0.0369\n"
     ]
    },
    {
     "data": {
      "text/plain": [
       "<tensorflow.python.keras.callbacks.History at 0x1b87561fc18>"
      ]
     },
     "execution_count": 16,
     "metadata": {},
     "output_type": "execute_result"
    }
   ],
   "source": [
    "model = get_model(content.shape[1])        \n",
    "callbacks = [EarlyStopping('val_accuracy', patience=10)]\n",
    "model.fit(content, classes_onehot.toarray(), epochs=100, validation_split=0.3, callbacks=callbacks)"
   ]
  }
 ],
 "metadata": {
  "kernelspec": {
   "display_name": "Python 3",
   "language": "python",
   "name": "python3"
  },
  "language_info": {
   "codemirror_mode": {
    "name": "ipython",
    "version": 3
   },
   "file_extension": ".py",
   "mimetype": "text/x-python",
   "name": "python",
   "nbconvert_exporter": "python",
   "pygments_lexer": "ipython3",
   "version": "3.7.3"
  }
 },
 "nbformat": 4,
 "nbformat_minor": 2
}
