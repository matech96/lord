{
 "cells": [
  {
   "cell_type": "code",
   "execution_count": 1,
   "metadata": {},
   "outputs": [],
   "source": [
    "import os\n",
    "os.chdir('..')"
   ]
  },
  {
   "cell_type": "code",
   "execution_count": 2,
   "metadata": {},
   "outputs": [],
   "source": [
    "import numpy as np\n",
    "from pathlib import Path\n",
    "from scipy.io import loadmat\n",
    "\n",
    "import tensorflow_datasets as tfds"
   ]
  },
  {
   "cell_type": "code",
   "execution_count": 23,
   "metadata": {},
   "outputs": [],
   "source": [
    "base_dir = Path('data/small_norb_lord')\n",
    "os.makedirs(base_dir, exist_ok=True)\n"
   ]
  },
  {
   "cell_type": "code",
   "execution_count": 10,
   "metadata": {},
   "outputs": [],
   "source": [
    "import tensorflow.compat.v2 as tf\n",
    "import tensorflow_datasets as tfds\n",
    "import matplotlib.pyplot as plt\n",
    "import matplotlib\n",
    "\n",
    "# tfds works in both Eager and Graph modes\n",
    "tf.compat.v1.enable_eager_execution()\n",
    "\n",
    "# Construct a tf.data.Dataset\n",
    "dataset = tfds.load(name=\"smallnorb\", split=\"train\")"
   ]
  },
  {
   "cell_type": "code",
   "execution_count": 27,
   "metadata": {
    "scrolled": false
   },
   "outputs": [],
   "source": [
    "import numpy as np\n",
    "for example in dataset:\n",
    "    dir_name = base_dir/f'{example[\"label_category\"]}'/f'{example[\"instance\"]}'\n",
    "    os.makedirs(dir_name, exist_ok=True)\n",
    "#     lt_rt = len(os.listdir(dir_name))\n",
    "    image = example[\"image\"]\n",
    "\n",
    "    image_name = f'azimuth{example[\"label_azimuth\"]}_elevation{example[\"label_elevation\"]}_lighting{example[\"label_lighting\"]}_donow.jpg'\n",
    "    image_path = dir_name / image_name\n",
    "    if os.path.exists(image_path):\n",
    "        print(\"Error: {image_path} exists!\")\n",
    "    else:\n",
    "        matplotlib.image.imsave(image_path, np.squeeze(image), cmap='gray')"
   ]
  }
 ],
 "metadata": {
  "kernelspec": {
   "display_name": "Python 3",
   "language": "python",
   "name": "python3"
  },
  "language_info": {
   "codemirror_mode": {
    "name": "ipython",
    "version": 3
   },
   "file_extension": ".py",
   "mimetype": "text/x-python",
   "name": "python",
   "nbconvert_exporter": "python",
   "pygments_lexer": "ipython3",
   "version": "3.7.3"
  }
 },
 "nbformat": 4,
 "nbformat_minor": 2
}
